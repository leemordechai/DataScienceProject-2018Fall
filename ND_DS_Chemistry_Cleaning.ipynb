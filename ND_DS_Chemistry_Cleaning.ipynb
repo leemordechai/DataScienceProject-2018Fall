{
  "nbformat": 4,
  "nbformat_minor": 0,
  "metadata": {
    "colab": {
      "name": "ND-DS-Chemistry-Cleaning",
      "version": "0.3.2",
      "provenance": [],
      "include_colab_link": true
    },
    "kernelspec": {
      "name": "python3",
      "display_name": "Python 3"
    }
  },
  "cells": [
    {
      "cell_type": "markdown",
      "metadata": {
        "id": "view-in-github",
        "colab_type": "text"
      },
      "source": [
        "[View in Colaboratory](https://colab.research.google.com/github/leemordechai/DataScienceProject-2018Fall/blob/master/ND_DS_Chemistry_Cleaning.ipynb)"
      ]
    },
    {
      "metadata": {
        "id": "Ux0MXeLVULHH",
        "colab_type": "code",
        "colab": {
          "resources": {
            "http://localhost:8080/nbextensions/google.colab/files.js": {
              "data": "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",
              "ok": true,
              "headers": [
                [
                  "content-type",
                  "application/javascript"
                ]
              ],
              "status": 200,
              "status_text": ""
            }
          },
          "base_uri": "https://localhost:8080/",
          "height": 72
        },
        "outputId": "62695c30-06e2-49b0-f2ab-faa1f85ea261"
      },
      "cell_type": "code",
      "source": [
        "from google.colab import files\n",
        "import io\n",
        "import ast \n",
        "uploaded = files.upload() \n"
      ],
      "execution_count": 3,
      "outputs": [
        {
          "output_type": "display_data",
          "data": {
            "text/html": [
              "\n",
              "     <input type=\"file\" id=\"files-f3a0b7c8-4738-4df7-8316-baa3fb356bff\" name=\"files[]\" multiple disabled />\n",
              "     <output id=\"result-f3a0b7c8-4738-4df7-8316-baa3fb356bff\">\n",
              "      Upload widget is only available when the cell has been executed in the\n",
              "      current browser session. Please rerun this cell to enable.\n",
              "      </output>\n",
              "      <script src=\"/nbextensions/google.colab/files.js\"></script> "
            ],
            "text/plain": [
              "<IPython.core.display.HTML object>"
            ]
          },
          "metadata": {
            "tags": []
          }
        },
        {
          "output_type": "stream",
          "text": [
            "Saving third_dataset_09_12_2018.csv to third_dataset_09_12_2018 (1).csv\n"
          ],
          "name": "stdout"
        }
      ]
    },
    {
      "metadata": {
        "id": "f6XgWp7DVuhI",
        "colab_type": "code",
        "colab": {
          "base_uri": "https://localhost:8080/",
          "height": 666
        },
        "outputId": "f2ff3dca-ddae-49f2-f8b1-aed3fb931f41"
      },
      "cell_type": "code",
      "source": [
        "!pip install pymatgen\n",
        "import pandas as pd \n",
        "raw_df = pd.read_csv(io.StringIO(uploaded['third_dataset_09_12_2018.csv'].decode('utf-8'))) \n",
        "# if reading from a local csv file, uncomment the following line instead: \n",
        "#df = pd.read_csv('Dataset-film-data.csv') \n",
        "import warnings \n",
        "warnings.filterwarnings(\"ignore\")\n",
        "print(raw_df.shape) \n",
        "raw_df.head()"
      ],
      "execution_count": 4,
      "outputs": [
        {
          "output_type": "stream",
          "text": [
            "Requirement already satisfied: pymatgen in /usr/local/lib/python3.6/dist-packages (2018.9.12)\n",
            "Requirement already satisfied: six in /usr/local/lib/python3.6/dist-packages (from pymatgen) (1.11.0)\n",
            "Requirement already satisfied: palettable>=2.1.1 in /usr/local/lib/python3.6/dist-packages (from pymatgen) (3.1.1)\n",
            "Requirement already satisfied: matplotlib>=1.5 in /usr/local/lib/python3.6/dist-packages (from pymatgen) (2.1.2)\n",
            "Requirement already satisfied: monty>=0.9.6 in /usr/local/lib/python3.6/dist-packages (from pymatgen) (1.0.3)\n",
            "Requirement already satisfied: pandas in /usr/local/lib/python3.6/dist-packages (from pymatgen) (0.22.0)\n",
            "Requirement already satisfied: numpy>=1.14.3 in /usr/local/lib/python3.6/dist-packages (from pymatgen) (1.14.5)\n",
            "Requirement already satisfied: networkx>=2.1 in /usr/local/lib/python3.6/dist-packages (from pymatgen) (2.1)\n",
            "Requirement already satisfied: spglib>=1.9.9.44 in /usr/local/lib/python3.6/dist-packages (from pymatgen) (1.10.4.11)\n",
            "Requirement already satisfied: scipy>=1.0.1 in /usr/local/lib/python3.6/dist-packages (from pymatgen) (1.1.0)\n",
            "Requirement already satisfied: requests in /usr/local/lib/python3.6/dist-packages (from pymatgen) (2.18.4)\n",
            "Requirement already satisfied: pydispatcher>=2.0.5 in /usr/local/lib/python3.6/dist-packages (from pymatgen) (2.0.5)\n",
            "Requirement already satisfied: ruamel.yaml>=0.15.6 in /usr/local/lib/python3.6/dist-packages (from pymatgen) (0.15.66)\n",
            "Requirement already satisfied: tabulate in /usr/local/lib/python3.6/dist-packages (from pymatgen) (0.8.2)\n",
            "Requirement already satisfied: sympy in /usr/local/lib/python3.6/dist-packages (from pymatgen) (1.1.1)\n",
            "Requirement already satisfied: pytz in /usr/local/lib/python3.6/dist-packages (from matplotlib>=1.5->pymatgen) (2018.5)\n",
            "Requirement already satisfied: cycler>=0.10 in /usr/local/lib/python3.6/dist-packages (from matplotlib>=1.5->pymatgen) (0.10.0)\n",
            "Requirement already satisfied: python-dateutil>=2.1 in /usr/local/lib/python3.6/dist-packages (from matplotlib>=1.5->pymatgen) (2.5.3)\n",
            "Requirement already satisfied: pyparsing!=2.0.4,!=2.1.2,!=2.1.6,>=2.0.1 in /usr/local/lib/python3.6/dist-packages (from matplotlib>=1.5->pymatgen) (2.2.0)\n",
            "Requirement already satisfied: decorator>=4.1.0 in /usr/local/lib/python3.6/dist-packages (from networkx>=2.1->pymatgen) (4.3.0)\n",
            "Requirement already satisfied: urllib3<1.23,>=1.21.1 in /usr/local/lib/python3.6/dist-packages (from requests->pymatgen) (1.22)\n",
            "Requirement already satisfied: idna<2.7,>=2.5 in /usr/local/lib/python3.6/dist-packages (from requests->pymatgen) (2.6)\n",
            "Requirement already satisfied: certifi>=2017.4.17 in /usr/local/lib/python3.6/dist-packages (from requests->pymatgen) (2018.8.24)\n",
            "Requirement already satisfied: chardet<3.1.0,>=3.0.2 in /usr/local/lib/python3.6/dist-packages (from requests->pymatgen) (3.0.4)\n",
            "Requirement already satisfied: mpmath>=0.19 in /usr/local/lib/python3.6/dist-packages (from sympy->pymatgen) (1.0.0)\n",
            "(83989, 2)\n"
          ],
          "name": "stdout"
        },
        {
          "output_type": "execute_result",
          "data": {
            "text/html": [
              "<div>\n",
              "<style scoped>\n",
              "    .dataframe tbody tr th:only-of-type {\n",
              "        vertical-align: middle;\n",
              "    }\n",
              "\n",
              "    .dataframe tbody tr th {\n",
              "        vertical-align: top;\n",
              "    }\n",
              "\n",
              "    .dataframe thead th {\n",
              "        text-align: right;\n",
              "    }\n",
              "</style>\n",
              "<table border=\"1\" class=\"dataframe\">\n",
              "  <thead>\n",
              "    <tr style=\"text-align: right;\">\n",
              "      <th></th>\n",
              "      <th>material_id</th>\n",
              "      <th>pretty_formula</th>\n",
              "    </tr>\n",
              "  </thead>\n",
              "  <tbody>\n",
              "    <tr>\n",
              "      <th>0</th>\n",
              "      <td>mp-1</td>\n",
              "      <td>Cs</td>\n",
              "    </tr>\n",
              "    <tr>\n",
              "      <th>1</th>\n",
              "      <td>mp-10</td>\n",
              "      <td>As</td>\n",
              "    </tr>\n",
              "    <tr>\n",
              "      <th>2</th>\n",
              "      <td>mp-100</td>\n",
              "      <td>Hf</td>\n",
              "    </tr>\n",
              "    <tr>\n",
              "      <th>3</th>\n",
              "      <td>mp-1000</td>\n",
              "      <td>BaTe</td>\n",
              "    </tr>\n",
              "    <tr>\n",
              "      <th>4</th>\n",
              "      <td>mp-10000</td>\n",
              "      <td>Hf2S</td>\n",
              "    </tr>\n",
              "  </tbody>\n",
              "</table>\n",
              "</div>"
            ],
            "text/plain": [
              "  material_id pretty_formula\n",
              "0        mp-1             Cs\n",
              "1       mp-10             As\n",
              "2      mp-100             Hf\n",
              "3     mp-1000           BaTe\n",
              "4    mp-10000           Hf2S"
            ]
          },
          "metadata": {
            "tags": []
          },
          "execution_count": 4
        }
      ]
    },
    {
      "metadata": {
        "id": "mFa18eh-YXJv",
        "colab_type": "code",
        "colab": {
          "base_uri": "https://localhost:8080/",
          "height": 187
        },
        "outputId": "efc80117-442c-4351-938e-9c38216e4eee"
      },
      "cell_type": "code",
      "source": [
        "from pymatgen import Composition, Element\n",
        "\n",
        "def invalids(x):\n",
        "  if type(x) == float: return True\n",
        "\n",
        "# Some necessary cleaning since some materials have no formula\n",
        "df1 = raw_df[raw_df['pretty_formula'].apply(invalids) != True]\n",
        "# print(len(raw_df), len(df1)) # 83989, 83987\n",
        "\n",
        "# add another column to the df, Composition\n",
        "df1['Composition'] = df1['pretty_formula'].apply(lambda x: Composition(x))\n",
        "print(df1['Composition'].apply(len).value_counts()) # about 8000 materials have 1 or 5-8 elements\n",
        "# derive number of elements of each material from its composition\n",
        "df1['Num_Elements'] = df1['Composition'].apply(len)\n",
        "\n",
        "df2 = df1[(df1['Num_Elements'] > 1) & (df1['Num_Elements'] < 5)]\n",
        "len(df2)\n",
        "  \n"
      ],
      "execution_count": 5,
      "outputs": [
        {
          "output_type": "stream",
          "text": [
            "3    40389\n",
            "4    21594\n",
            "2    13858\n",
            "5     6614\n",
            "6      870\n",
            "1      589\n",
            "7       68\n",
            "8        5\n",
            "Name: Composition, dtype: int64\n"
          ],
          "name": "stdout"
        },
        {
          "output_type": "execute_result",
          "data": {
            "text/plain": [
              "75841"
            ]
          },
          "metadata": {
            "tags": []
          },
          "execution_count": 5
        }
      ]
    },
    {
      "metadata": {
        "id": "Nst7ZmPFctap",
        "colab_type": "code",
        "colab": {
          "base_uri": "https://localhost:8080/",
          "height": 102
        },
        "outputId": "b6c4123a-9dd0-4de1-96c5-4ddd12381bb3"
      },
      "cell_type": "code",
      "source": [
        "import collections\n",
        "\n",
        "counter = collections.Counter()\n",
        "df2['Composition'].apply(lambda x: counter.update(list(x)))\n",
        "\n",
        "counter.most_common(5) # this is different from Yifan's results since looking at df2 (not df1)"
      ],
      "execution_count": 6,
      "outputs": [
        {
          "output_type": "execute_result",
          "data": {
            "text/plain": [
              "[(Element O, 36517),\n",
              " (Element Li, 11720),\n",
              " (Element Mg, 9484),\n",
              " (Element P, 7364),\n",
              " (Element F, 6073)]"
            ]
          },
          "metadata": {
            "tags": []
          },
          "execution_count": 6
        }
      ]
    },
    {
      "metadata": {
        "id": "nuJDVT6SdzcY",
        "colab_type": "code",
        "colab": {}
      },
      "cell_type": "code",
      "source": [
        "freq_elements = []\n",
        "df_element_frequencies = pd.DataFrame(columns=['Element', 'Freq'])\n",
        "for elem, num in counter.most_common(): # parentheses () to see all\n",
        "  freq_elements.append(elem)\n",
        "  df_element_frequencies = df_element_frequencies.append({'Element': str(elem), 'Freq': num}, ignore_index=True)\n",
        "\n",
        "least_frequent_elements = freq_elements[:80:-1] # is now a list of the least frequent elements (out of top 80)"
      ],
      "execution_count": 0,
      "outputs": []
    },
    {
      "metadata": {
        "id": "V_83dShtjFRx",
        "colab_type": "code",
        "colab": {
          "base_uri": "https://localhost:8080/",
          "height": 378
        },
        "outputId": "b81624f2-1b81-4ed3-f3d1-520f626c58e0"
      },
      "cell_type": "code",
      "source": [
        "# visualize the elements\n",
        "import seaborn as sns\n",
        "df_element_frequencies.head()\n",
        "sns.barplot(x='Element', y='Freq', data = df_element_frequencies)\n"
      ],
      "execution_count": 8,
      "outputs": [
        {
          "output_type": "execute_result",
          "data": {
            "text/plain": [
              "<matplotlib.axes._subplots.AxesSubplot at 0x7fa41b8524e0>"
            ]
          },
          "metadata": {
            "tags": []
          },
          "execution_count": 8
        },
        {
          "output_type": "display_data",
          "data": {
            "image/png": "[encoded data removed]",
            "text/plain": [
              "<matplotlib.figure.Figure at 0x7fa41f8f37f0>"
            ]
          },
          "metadata": {
            "tags": []
          }
        }
      ]
    },
    {
      "metadata": {
        "id": "_Ar4Ynt8ljnD",
        "colab_type": "code",
        "colab": {
          "base_uri": "https://localhost:8080/",
          "height": 204
        },
        "outputId": "ff5dbf14-5751-4741-b10b-90102510f616"
      },
      "cell_type": "code",
      "source": [
        "df2.head()"
      ],
      "execution_count": 9,
      "outputs": [
        {
          "output_type": "execute_result",
          "data": {
            "text/html": [
              "<div>\n",
              "<style scoped>\n",
              "    .dataframe tbody tr th:only-of-type {\n",
              "        vertical-align: middle;\n",
              "    }\n",
              "\n",
              "    .dataframe tbody tr th {\n",
              "        vertical-align: top;\n",
              "    }\n",
              "\n",
              "    .dataframe thead th {\n",
              "        text-align: right;\n",
              "    }\n",
              "</style>\n",
              "<table border=\"1\" class=\"dataframe\">\n",
              "  <thead>\n",
              "    <tr style=\"text-align: right;\">\n",
              "      <th></th>\n",
              "      <th>material_id</th>\n",
              "      <th>pretty_formula</th>\n",
              "      <th>Composition</th>\n",
              "      <th>Num_Elements</th>\n",
              "    </tr>\n",
              "  </thead>\n",
              "  <tbody>\n",
              "    <tr>\n",
              "      <th>3</th>\n",
              "      <td>mp-1000</td>\n",
              "      <td>BaTe</td>\n",
              "      <td>(Ba, Te)</td>\n",
              "      <td>2</td>\n",
              "    </tr>\n",
              "    <tr>\n",
              "      <th>4</th>\n",
              "      <td>mp-10000</td>\n",
              "      <td>Hf2S</td>\n",
              "      <td>(Hf, S)</td>\n",
              "      <td>2</td>\n",
              "    </tr>\n",
              "    <tr>\n",
              "      <th>5</th>\n",
              "      <td>mp-10003</td>\n",
              "      <td>Nb4CoSi</td>\n",
              "      <td>(Nb, Co, Si)</td>\n",
              "      <td>3</td>\n",
              "    </tr>\n",
              "    <tr>\n",
              "      <th>6</th>\n",
              "      <td>mp-10004</td>\n",
              "      <td>Mo3P</td>\n",
              "      <td>(Mo, P)</td>\n",
              "      <td>2</td>\n",
              "    </tr>\n",
              "    <tr>\n",
              "      <th>7</th>\n",
              "      <td>mp-1000440</td>\n",
              "      <td>CrN</td>\n",
              "      <td>(Cr, N)</td>\n",
              "      <td>2</td>\n",
              "    </tr>\n",
              "  </tbody>\n",
              "</table>\n",
              "</div>"
            ],
            "text/plain": [
              "  material_id pretty_formula   Composition  Num_Elements\n",
              "3     mp-1000           BaTe      (Ba, Te)             2\n",
              "4    mp-10000           Hf2S       (Hf, S)             2\n",
              "5    mp-10003        Nb4CoSi  (Nb, Co, Si)             3\n",
              "6    mp-10004           Mo3P       (Mo, P)             2\n",
              "7  mp-1000440            CrN       (Cr, N)             2"
            ]
          },
          "metadata": {
            "tags": []
          },
          "execution_count": 9
        }
      ]
    },
    {
      "metadata": {
        "id": "nzG7fTuRljqY",
        "colab_type": "code",
        "colab": {
          "base_uri": "https://localhost:8080/",
          "height": 119
        },
        "outputId": "7f68dab2-7854-4c87-93a5-78b8f37e6f9d"
      },
      "cell_type": "code",
      "source": [
        "df2['pretty_formula'].head().apply(lambda x: Composition(x))\n"
      ],
      "execution_count": 10,
      "outputs": [
        {
          "output_type": "execute_result",
          "data": {
            "text/plain": [
              "3        (Ba, Te)\n",
              "4         (Hf, S)\n",
              "5    (Nb, Co, Si)\n",
              "6         (Mo, P)\n",
              "7         (Cr, N)\n",
              "Name: pretty_formula, dtype: object"
            ]
          },
          "metadata": {
            "tags": []
          },
          "execution_count": 10
        }
      ]
    },
    {
      "metadata": {
        "id": "6PVc2jIioDy9",
        "colab_type": "text"
      },
      "cell_type": "markdown",
      "source": [
        "<h3>Note the issue in the cell below, which influences the overall results:</h3>\n",
        "In particular, this determines which elements we're interested in. Yifan selected only the top 80 single elements, but it seems to me that the original paper's authors were also interested in compounds (SI, p. 2)"
      ]
    },
    {
      "metadata": {
        "id": "IEXzjPQUljt9",
        "colab_type": "code",
        "colab": {
          "base_uri": "https://localhost:8080/",
          "height": 34
        },
        "outputId": "dac5a5a8-9371-4537-86b3-c88516e240c3"
      },
      "cell_type": "code",
      "source": [
        "#note the major difference between:\n",
        "first_method = df2[df2['pretty_formula'] == 'NiO2']\n",
        "second_method = df2[df2['pretty_formula'].str.contains('NiO2')]\n",
        "print(len(first_method), len(second_method))\n",
        "# the second method seems similar to what the authors of the original paper used (NiO2 ~= 100)"
      ],
      "execution_count": 11,
      "outputs": [
        {
          "output_type": "stream",
          "text": [
            "18 222\n"
          ],
          "name": "stdout"
        }
      ]
    },
    {
      "metadata": {
        "id": "wvfEn1PxpEzK",
        "colab_type": "code",
        "colab": {
          "base_uri": "https://localhost:8080/",
          "height": 34
        },
        "outputId": "7462d6a6-ea2f-435a-b88d-757e0c90f290"
      },
      "cell_type": "code",
      "source": [
        "for i in range(len(least_frequent_elements)):\n",
        "  least_frequent_elements[i] = str(least_frequent_elements[i])\n",
        "\n",
        "least_frequent_elements # this is a list of Strings, not Elements\n",
        "regex_string = ''\n",
        "for i in least_frequent_elements:\n",
        "  regex_string = regex_string + i + '|'\n",
        "\n",
        "regex_string = regex_string[:-1] # getting rid of last char\n",
        "regex_string"
      ],
      "execution_count": 12,
      "outputs": [
        {
          "output_type": "execute_result",
          "data": {
            "text/plain": [
              "'He|Kr|Xe|Ac|Pa|Np'"
            ]
          },
          "metadata": {
            "tags": []
          },
          "execution_count": 12
        }
      ]
    },
    {
      "metadata": {
        "id": "c23273X3WUlH",
        "colab_type": "code",
        "colab": {
          "base_uri": "https://localhost:8080/",
          "height": 204
        },
        "outputId": "f0b06274-ca76-4a30-bd5d-09e35c235c2e"
      },
      "cell_type": "code",
      "source": [
        "# removing everything which has one of the rare elements\n",
        "df3 = df2[df2['Composition'].apply(lambda x: str(x)).str.contains(regex_string) == False]\n",
        "\n",
        "# these are some of the entries we've removed:\n",
        "df2[df2['Composition'].apply(lambda x: str(x)).str.contains(regex_string) == True].head()\n"
      ],
      "execution_count": 13,
      "outputs": [
        {
          "output_type": "execute_result",
          "data": {
            "text/html": [
              "<div>\n",
              "<style scoped>\n",
              "    .dataframe tbody tr th:only-of-type {\n",
              "        vertical-align: middle;\n",
              "    }\n",
              "\n",
              "    .dataframe tbody tr th {\n",
              "        vertical-align: top;\n",
              "    }\n",
              "\n",
              "    .dataframe thead th {\n",
              "        text-align: right;\n",
              "    }\n",
              "</style>\n",
              "<table border=\"1\" class=\"dataframe\">\n",
              "  <thead>\n",
              "    <tr style=\"text-align: right;\">\n",
              "      <th></th>\n",
              "      <th>material_id</th>\n",
              "      <th>pretty_formula</th>\n",
              "      <th>Composition</th>\n",
              "      <th>Num_Elements</th>\n",
              "    </tr>\n",
              "  </thead>\n",
              "  <tbody>\n",
              "    <tr>\n",
              "      <th>238</th>\n",
              "      <td>mp-1005719</td>\n",
              "      <td>Sm3Np</td>\n",
              "      <td>(Sm, Np)</td>\n",
              "      <td>2</td>\n",
              "    </tr>\n",
              "    <tr>\n",
              "      <th>239</th>\n",
              "      <td>mp-1005727</td>\n",
              "      <td>TmNp3</td>\n",
              "      <td>(Tm, Np)</td>\n",
              "      <td>2</td>\n",
              "    </tr>\n",
              "    <tr>\n",
              "      <th>258</th>\n",
              "      <td>mp-1006056</td>\n",
              "      <td>PaNi2Ge</td>\n",
              "      <td>(Pa, Ni, Ge)</td>\n",
              "      <td>3</td>\n",
              "    </tr>\n",
              "    <tr>\n",
              "      <th>268</th>\n",
              "      <td>mp-1006127</td>\n",
              "      <td>Pa3Mo</td>\n",
              "      <td>(Pa, Mo)</td>\n",
              "      <td>2</td>\n",
              "    </tr>\n",
              "    <tr>\n",
              "      <th>278</th>\n",
              "      <td>mp-1006245</td>\n",
              "      <td>ErNp3</td>\n",
              "      <td>(Er, Np)</td>\n",
              "      <td>2</td>\n",
              "    </tr>\n",
              "  </tbody>\n",
              "</table>\n",
              "</div>"
            ],
            "text/plain": [
              "    material_id pretty_formula   Composition  Num_Elements\n",
              "238  mp-1005719          Sm3Np      (Sm, Np)             2\n",
              "239  mp-1005727          TmNp3      (Tm, Np)             2\n",
              "258  mp-1006056        PaNi2Ge  (Pa, Ni, Ge)             3\n",
              "268  mp-1006127          Pa3Mo      (Pa, Mo)             2\n",
              "278  mp-1006245          ErNp3      (Er, Np)             2"
            ]
          },
          "metadata": {
            "tags": []
          },
          "execution_count": 13
        }
      ]
    },
    {
      "metadata": {
        "id": "iHCmu0RipE2C",
        "colab_type": "code",
        "colab": {
          "base_uri": "https://localhost:8080/",
          "height": 204
        },
        "outputId": "d952f4f5-8340-4a7a-e94c-e21d63c460ba"
      },
      "cell_type": "code",
      "source": [
        "df3.head()"
      ],
      "execution_count": 14,
      "outputs": [
        {
          "output_type": "execute_result",
          "data": {
            "text/html": [
              "<div>\n",
              "<style scoped>\n",
              "    .dataframe tbody tr th:only-of-type {\n",
              "        vertical-align: middle;\n",
              "    }\n",
              "\n",
              "    .dataframe tbody tr th {\n",
              "        vertical-align: top;\n",
              "    }\n",
              "\n",
              "    .dataframe thead th {\n",
              "        text-align: right;\n",
              "    }\n",
              "</style>\n",
              "<table border=\"1\" class=\"dataframe\">\n",
              "  <thead>\n",
              "    <tr style=\"text-align: right;\">\n",
              "      <th></th>\n",
              "      <th>material_id</th>\n",
              "      <th>pretty_formula</th>\n",
              "      <th>Composition</th>\n",
              "      <th>Num_Elements</th>\n",
              "    </tr>\n",
              "  </thead>\n",
              "  <tbody>\n",
              "    <tr>\n",
              "      <th>3</th>\n",
              "      <td>mp-1000</td>\n",
              "      <td>BaTe</td>\n",
              "      <td>(Ba, Te)</td>\n",
              "      <td>2</td>\n",
              "    </tr>\n",
              "    <tr>\n",
              "      <th>4</th>\n",
              "      <td>mp-10000</td>\n",
              "      <td>Hf2S</td>\n",
              "      <td>(Hf, S)</td>\n",
              "      <td>2</td>\n",
              "    </tr>\n",
              "    <tr>\n",
              "      <th>5</th>\n",
              "      <td>mp-10003</td>\n",
              "      <td>Nb4CoSi</td>\n",
              "      <td>(Nb, Co, Si)</td>\n",
              "      <td>3</td>\n",
              "    </tr>\n",
              "    <tr>\n",
              "      <th>6</th>\n",
              "      <td>mp-10004</td>\n",
              "      <td>Mo3P</td>\n",
              "      <td>(Mo, P)</td>\n",
              "      <td>2</td>\n",
              "    </tr>\n",
              "    <tr>\n",
              "      <th>7</th>\n",
              "      <td>mp-1000440</td>\n",
              "      <td>CrN</td>\n",
              "      <td>(Cr, N)</td>\n",
              "      <td>2</td>\n",
              "    </tr>\n",
              "  </tbody>\n",
              "</table>\n",
              "</div>"
            ],
            "text/plain": [
              "  material_id pretty_formula   Composition  Num_Elements\n",
              "3     mp-1000           BaTe      (Ba, Te)             2\n",
              "4    mp-10000           Hf2S       (Hf, S)             2\n",
              "5    mp-10003        Nb4CoSi  (Nb, Co, Si)             3\n",
              "6    mp-10004           Mo3P       (Mo, P)             2\n",
              "7  mp-1000440            CrN       (Cr, N)             2"
            ]
          },
          "metadata": {
            "tags": []
          },
          "execution_count": 14
        }
      ]
    },
    {
      "metadata": {
        "id": "4y8XF49ipE5D",
        "colab_type": "code",
        "colab": {}
      },
      "cell_type": "code",
      "source": [
        "from pymatgen import MPRester                                                     \n",
        "import urllib.request                                                             \n",
        "import json\n",
        "                                                                                  \n",
        "MAPI_KEY = \"zQIrujyVEwEhTBRW\"  # API key\n",
        "                                                                                  \n",
        "with MPRester(MAPI_KEY) as m: # object for connecting to MP Rest interface \n",
        "  criteria={'material_id': {'$in': list(df3['material_id'])}} # can add '.head(7)' for testing\n",
        "  properties=['energy', 'pretty_formula','total_electrons','density']\n",
        "  data = m.query(criteria, properties)                                      "
      ],
      "execution_count": 0,
      "outputs": []
    },
    {
      "metadata": {
        "id": "RGnkguyapE75",
        "colab_type": "code",
        "colab": {
          "base_uri": "https://localhost:8080/",
          "height": 204
        },
        "outputId": "782bb7c6-f1a3-4ded-83d7-5dc722bf9423"
      },
      "cell_type": "code",
      "source": [
        "downloaded_details = pd.DataFrame.from_dict(data)\n",
        "downloaded_details.head()"
      ],
      "execution_count": 16,
      "outputs": [
        {
          "output_type": "execute_result",
          "data": {
            "text/html": [
              "<div>\n",
              "<style scoped>\n",
              "    .dataframe tbody tr th:only-of-type {\n",
              "        vertical-align: middle;\n",
              "    }\n",
              "\n",
              "    .dataframe tbody tr th {\n",
              "        vertical-align: top;\n",
              "    }\n",
              "\n",
              "    .dataframe thead th {\n",
              "        text-align: right;\n",
              "    }\n",
              "</style>\n",
              "<table border=\"1\" class=\"dataframe\">\n",
              "  <thead>\n",
              "    <tr style=\"text-align: right;\">\n",
              "      <th></th>\n",
              "      <th>density</th>\n",
              "      <th>energy</th>\n",
              "      <th>pretty_formula</th>\n",
              "      <th>total_electrons</th>\n",
              "    </tr>\n",
              "  </thead>\n",
              "  <tbody>\n",
              "    <tr>\n",
              "      <th>0</th>\n",
              "      <td>4.937886</td>\n",
              "      <td>-8.647345</td>\n",
              "      <td>BaTe</td>\n",
              "      <td>None</td>\n",
              "    </tr>\n",
              "    <tr>\n",
              "      <th>1</th>\n",
              "      <td>11.035292</td>\n",
              "      <td>-54.265245</td>\n",
              "      <td>Hf2S</td>\n",
              "      <td>None</td>\n",
              "    </tr>\n",
              "    <tr>\n",
              "      <th>2</th>\n",
              "      <td>7.830812</td>\n",
              "      <td>-110.093972</td>\n",
              "      <td>Nb4CoSi</td>\n",
              "      <td>None</td>\n",
              "    </tr>\n",
              "    <tr>\n",
              "      <th>3</th>\n",
              "      <td>8.991405</td>\n",
              "      <td>-157.398310</td>\n",
              "      <td>Mo3P</td>\n",
              "      <td>None</td>\n",
              "    </tr>\n",
              "    <tr>\n",
              "      <th>4</th>\n",
              "      <td>6.101436</td>\n",
              "      <td>-18.643520</td>\n",
              "      <td>CrN</td>\n",
              "      <td>None</td>\n",
              "    </tr>\n",
              "  </tbody>\n",
              "</table>\n",
              "</div>"
            ],
            "text/plain": [
              "     density      energy pretty_formula total_electrons\n",
              "0   4.937886   -8.647345           BaTe            None\n",
              "1  11.035292  -54.265245           Hf2S            None\n",
              "2   7.830812 -110.093972        Nb4CoSi            None\n",
              "3   8.991405 -157.398310           Mo3P            None\n",
              "4   6.101436  -18.643520            CrN            None"
            ]
          },
          "metadata": {
            "tags": []
          },
          "execution_count": 16
        }
      ]
    },
    {
      "metadata": {
        "id": "79fsO4nDpE-x",
        "colab_type": "code",
        "colab": {
          "base_uri": "https://localhost:8080/",
          "height": 204
        },
        "outputId": "6219f155-6c6f-4afe-ec2a-b9a84a8f5b71"
      },
      "cell_type": "code",
      "source": [
        "df4 = df3.copy().reset_index()\n",
        "df4['Density'] = downloaded_details['density']\n",
        "df4['Energy'] = downloaded_details['energy']\n",
        "df4['Total Electrons'] = downloaded_details['total_electrons']\n",
        "\n",
        "df4 = df4.drop('index', axis=1)\n",
        "df4.head()\n"
      ],
      "execution_count": 17,
      "outputs": [
        {
          "output_type": "execute_result",
          "data": {
            "text/html": [
              "<div>\n",
              "<style scoped>\n",
              "    .dataframe tbody tr th:only-of-type {\n",
              "        vertical-align: middle;\n",
              "    }\n",
              "\n",
              "    .dataframe tbody tr th {\n",
              "        vertical-align: top;\n",
              "    }\n",
              "\n",
              "    .dataframe thead th {\n",
              "        text-align: right;\n",
              "    }\n",
              "</style>\n",
              "<table border=\"1\" class=\"dataframe\">\n",
              "  <thead>\n",
              "    <tr style=\"text-align: right;\">\n",
              "      <th></th>\n",
              "      <th>material_id</th>\n",
              "      <th>pretty_formula</th>\n",
              "      <th>Composition</th>\n",
              "      <th>Num_Elements</th>\n",
              "      <th>Density</th>\n",
              "      <th>Energy</th>\n",
              "      <th>Total Electrons</th>\n",
              "    </tr>\n",
              "  </thead>\n",
              "  <tbody>\n",
              "    <tr>\n",
              "      <th>0</th>\n",
              "      <td>mp-1000</td>\n",
              "      <td>BaTe</td>\n",
              "      <td>(Ba, Te)</td>\n",
              "      <td>2</td>\n",
              "      <td>4.937886</td>\n",
              "      <td>-8.647345</td>\n",
              "      <td>None</td>\n",
              "    </tr>\n",
              "    <tr>\n",
              "      <th>1</th>\n",
              "      <td>mp-10000</td>\n",
              "      <td>Hf2S</td>\n",
              "      <td>(Hf, S)</td>\n",
              "      <td>2</td>\n",
              "      <td>11.035292</td>\n",
              "      <td>-54.265245</td>\n",
              "      <td>None</td>\n",
              "    </tr>\n",
              "    <tr>\n",
              "      <th>2</th>\n",
              "      <td>mp-10003</td>\n",
              "      <td>Nb4CoSi</td>\n",
              "      <td>(Nb, Co, Si)</td>\n",
              "      <td>3</td>\n",
              "      <td>7.830812</td>\n",
              "      <td>-110.093972</td>\n",
              "      <td>None</td>\n",
              "    </tr>\n",
              "    <tr>\n",
              "      <th>3</th>\n",
              "      <td>mp-10004</td>\n",
              "      <td>Mo3P</td>\n",
              "      <td>(Mo, P)</td>\n",
              "      <td>2</td>\n",
              "      <td>8.991405</td>\n",
              "      <td>-157.398310</td>\n",
              "      <td>None</td>\n",
              "    </tr>\n",
              "    <tr>\n",
              "      <th>4</th>\n",
              "      <td>mp-1000440</td>\n",
              "      <td>CrN</td>\n",
              "      <td>(Cr, N)</td>\n",
              "      <td>2</td>\n",
              "      <td>6.101436</td>\n",
              "      <td>-18.643520</td>\n",
              "      <td>None</td>\n",
              "    </tr>\n",
              "  </tbody>\n",
              "</table>\n",
              "</div>"
            ],
            "text/plain": [
              "  material_id pretty_formula   Composition  Num_Elements    Density  \\\n",
              "0     mp-1000           BaTe      (Ba, Te)             2   4.937886   \n",
              "1    mp-10000           Hf2S       (Hf, S)             2  11.035292   \n",
              "2    mp-10003        Nb4CoSi  (Nb, Co, Si)             3   7.830812   \n",
              "3    mp-10004           Mo3P       (Mo, P)             2   8.991405   \n",
              "4  mp-1000440            CrN       (Cr, N)             2   6.101436   \n",
              "\n",
              "       Energy Total Electrons  \n",
              "0   -8.647345            None  \n",
              "1  -54.265245            None  \n",
              "2 -110.093972            None  \n",
              "3 -157.398310            None  \n",
              "4  -18.643520            None  "
            ]
          },
          "metadata": {
            "tags": []
          },
          "execution_count": 17
        }
      ]
    },
    {
      "metadata": {
        "id": "adttA5HfXvjX",
        "colab_type": "code",
        "colab": {
          "base_uri": "https://localhost:8080/",
          "height": 142
        },
        "outputId": "d37fa28e-f23a-4633-afc9-13a06156f24f"
      },
      "cell_type": "code",
      "source": [
        "df4.corr()"
      ],
      "execution_count": 18,
      "outputs": [
        {
          "output_type": "execute_result",
          "data": {
            "text/html": [
              "<div>\n",
              "<style scoped>\n",
              "    .dataframe tbody tr th:only-of-type {\n",
              "        vertical-align: middle;\n",
              "    }\n",
              "\n",
              "    .dataframe tbody tr th {\n",
              "        vertical-align: top;\n",
              "    }\n",
              "\n",
              "    .dataframe thead th {\n",
              "        text-align: right;\n",
              "    }\n",
              "</style>\n",
              "<table border=\"1\" class=\"dataframe\">\n",
              "  <thead>\n",
              "    <tr style=\"text-align: right;\">\n",
              "      <th></th>\n",
              "      <th>Num_Elements</th>\n",
              "      <th>Density</th>\n",
              "      <th>Energy</th>\n",
              "    </tr>\n",
              "  </thead>\n",
              "  <tbody>\n",
              "    <tr>\n",
              "      <th>Num_Elements</th>\n",
              "      <td>1.000000</td>\n",
              "      <td>-0.280027</td>\n",
              "      <td>-0.344016</td>\n",
              "    </tr>\n",
              "    <tr>\n",
              "      <th>Density</th>\n",
              "      <td>-0.280027</td>\n",
              "      <td>1.000000</td>\n",
              "      <td>0.206637</td>\n",
              "    </tr>\n",
              "    <tr>\n",
              "      <th>Energy</th>\n",
              "      <td>-0.344016</td>\n",
              "      <td>0.206637</td>\n",
              "      <td>1.000000</td>\n",
              "    </tr>\n",
              "  </tbody>\n",
              "</table>\n",
              "</div>"
            ],
            "text/plain": [
              "              Num_Elements   Density    Energy\n",
              "Num_Elements      1.000000 -0.280027 -0.344016\n",
              "Density          -0.280027  1.000000  0.206637\n",
              "Energy           -0.344016  0.206637  1.000000"
            ]
          },
          "metadata": {
            "tags": []
          },
          "execution_count": 18
        }
      ]
    },
    {
      "metadata": {
        "id": "dJk6YhoWWLq3",
        "colab_type": "code",
        "colab": {}
      },
      "cell_type": "code",
      "source": [
        "filename = 'cleaned_data_09_18_2018.csv'\n",
        "df4.to_csv(filename)\n",
        "files.download(filename) "
      ],
      "execution_count": 0,
      "outputs": []
    },
    {
      "metadata": {
        "id": "TQWGbSJxywvk",
        "colab_type": "text"
      },
      "cell_type": "markdown",
      "source": [
        "<h1>Matrix Creation</h1>\n",
        "<h3>Begins here:</h3>"
      ]
    },
    {
      "metadata": {
        "id": "rbGdYOjLy25T",
        "colab_type": "code",
        "colab": {
          "base_uri": "https://localhost:8080/",
          "height": 204
        },
        "outputId": "35ce6247-8bcf-4f4d-e744-8382b54a7713"
      },
      "cell_type": "code",
      "source": [
        "df4.head()"
      ],
      "execution_count": 20,
      "outputs": [
        {
          "output_type": "execute_result",
          "data": {
            "text/html": [
              "<div>\n",
              "<style scoped>\n",
              "    .dataframe tbody tr th:only-of-type {\n",
              "        vertical-align: middle;\n",
              "    }\n",
              "\n",
              "    .dataframe tbody tr th {\n",
              "        vertical-align: top;\n",
              "    }\n",
              "\n",
              "    .dataframe thead th {\n",
              "        text-align: right;\n",
              "    }\n",
              "</style>\n",
              "<table border=\"1\" class=\"dataframe\">\n",
              "  <thead>\n",
              "    <tr style=\"text-align: right;\">\n",
              "      <th></th>\n",
              "      <th>material_id</th>\n",
              "      <th>pretty_formula</th>\n",
              "      <th>Composition</th>\n",
              "      <th>Num_Elements</th>\n",
              "      <th>Density</th>\n",
              "      <th>Energy</th>\n",
              "      <th>Total Electrons</th>\n",
              "    </tr>\n",
              "  </thead>\n",
              "  <tbody>\n",
              "    <tr>\n",
              "      <th>0</th>\n",
              "      <td>mp-1000</td>\n",
              "      <td>BaTe</td>\n",
              "      <td>(Ba, Te)</td>\n",
              "      <td>2</td>\n",
              "      <td>4.937886</td>\n",
              "      <td>-8.647345</td>\n",
              "      <td>None</td>\n",
              "    </tr>\n",
              "    <tr>\n",
              "      <th>1</th>\n",
              "      <td>mp-10000</td>\n",
              "      <td>Hf2S</td>\n",
              "      <td>(Hf, S)</td>\n",
              "      <td>2</td>\n",
              "      <td>11.035292</td>\n",
              "      <td>-54.265245</td>\n",
              "      <td>None</td>\n",
              "    </tr>\n",
              "    <tr>\n",
              "      <th>2</th>\n",
              "      <td>mp-10003</td>\n",
              "      <td>Nb4CoSi</td>\n",
              "      <td>(Nb, Co, Si)</td>\n",
              "      <td>3</td>\n",
              "      <td>7.830812</td>\n",
              "      <td>-110.093972</td>\n",
              "      <td>None</td>\n",
              "    </tr>\n",
              "    <tr>\n",
              "      <th>3</th>\n",
              "      <td>mp-10004</td>\n",
              "      <td>Mo3P</td>\n",
              "      <td>(Mo, P)</td>\n",
              "      <td>2</td>\n",
              "      <td>8.991405</td>\n",
              "      <td>-157.398310</td>\n",
              "      <td>None</td>\n",
              "    </tr>\n",
              "    <tr>\n",
              "      <th>4</th>\n",
              "      <td>mp-1000440</td>\n",
              "      <td>CrN</td>\n",
              "      <td>(Cr, N)</td>\n",
              "      <td>2</td>\n",
              "      <td>6.101436</td>\n",
              "      <td>-18.643520</td>\n",
              "      <td>None</td>\n",
              "    </tr>\n",
              "  </tbody>\n",
              "</table>\n",
              "</div>"
            ],
            "text/plain": [
              "  material_id pretty_formula   Composition  Num_Elements    Density  \\\n",
              "0     mp-1000           BaTe      (Ba, Te)             2   4.937886   \n",
              "1    mp-10000           Hf2S       (Hf, S)             2  11.035292   \n",
              "2    mp-10003        Nb4CoSi  (Nb, Co, Si)             3   7.830812   \n",
              "3    mp-10004           Mo3P       (Mo, P)             2   8.991405   \n",
              "4  mp-1000440            CrN       (Cr, N)             2   6.101436   \n",
              "\n",
              "       Energy Total Electrons  \n",
              "0   -8.647345            None  \n",
              "1  -54.265245            None  \n",
              "2 -110.093972            None  \n",
              "3 -157.398310            None  \n",
              "4  -18.643520            None  "
            ]
          },
          "metadata": {
            "tags": []
          },
          "execution_count": 20
        }
      ]
    },
    {
      "metadata": {
        "id": "-m4pTXsZy7h7",
        "colab_type": "code",
        "colab": {
          "base_uri": "https://localhost:8080/",
          "height": 54
        },
        "outputId": "a4c0bd2c-c0ff-4cdc-d395-bc17b657d036"
      },
      "cell_type": "code",
      "source": [
        "chars = set()\n",
        "df4['pretty_formula'].apply(lambda x: chars.update(list(x)))\n",
        "print(sorted(chars)) # looks normal, only parentheses, numbers and letters"
      ],
      "execution_count": 21,
      "outputs": [
        {
          "output_type": "stream",
          "text": [
            "['(', ')', '0', '1', '2', '3', '4', '5', '6', '7', '8', '9', 'A', 'B', 'C', 'D', 'E', 'F', 'G', 'H', 'I', 'K', 'L', 'M', 'N', 'O', 'P', 'R', 'S', 'T', 'U', 'V', 'W', 'Y', 'Z', 'a', 'b', 'c', 'd', 'e', 'f', 'g', 'h', 'i', 'l', 'm', 'n', 'o', 'r', 's', 't', 'u', 'y']\n"
          ],
          "name": "stdout"
        }
      ]
    },
    {
      "metadata": {
        "id": "91tKHPii3lwj",
        "colab_type": "code",
        "colab": {
          "base_uri": "https://localhost:8080/",
          "height": 68
        },
        "outputId": "2bfc4b45-2a6b-4b47-d2cb-21dd2b309fea"
      },
      "cell_type": "code",
      "source": [
        "import itertools\n",
        "\n",
        "def extract_element(str):\n",
        "  num = [s for s in list(str) if s.isdigit()]\n",
        "  elem = ''.join([s for s in list(str) if s.isdigit() == False])\n",
        "  num = int(''.join(num))\n",
        "  if num >= 1: return [elem, num]\n",
        "  else: return [elem, 1]\n",
        "\n",
        "print(extract_element('Nb4')) # test\n",
        "\n",
        "def environments(compo, feedback=False):\n",
        "  complete_elements = []\n",
        "  all_environments = []\n",
        "  removed_elements = []\n",
        "  \n",
        "  for ele in compo:\n",
        "    num_of_element = int(compo[ele])\n",
        "    if num_of_element == 0: num_of_element = 1\n",
        "    full_element = str(ele) + str(num_of_element)\n",
        "    complete_elements.append(full_element)\n",
        "  for i in itertools.permutations(complete_elements):\n",
        "    j = [k for k in i]\n",
        "    el, nu = extract_element(j[0])\n",
        "    j[0] = str(nu)\n",
        "    if feedback == True: print(''.join(j))\n",
        "    all_environments.append(''.join(j))\n",
        "    removed_elements.append(el)\n",
        "  \n",
        "  return [removed_elements, all_environments]\n",
        "\n",
        "print(df4['Composition'][1])\n",
        "environments(df4['Composition'][1], feedback=False)"
      ],
      "execution_count": 26,
      "outputs": [
        {
          "output_type": "stream",
          "text": [
            "['Nb', 4]\n",
            "Hf2 S1\n"
          ],
          "name": "stdout"
        },
        {
          "output_type": "execute_result",
          "data": {
            "text/plain": [
              "[['Hf', 'S'], ['2S1', '1Hf2']]"
            ]
          },
          "metadata": {
            "tags": []
          },
          "execution_count": 26
        }
      ]
    },
    {
      "metadata": {
        "id": "nGK8SqtT4nbz",
        "colab_type": "code",
        "colab": {
          "base_uri": "https://localhost:8080/",
          "height": 187
        },
        "outputId": "1ddf1397-7ac8-4853-8df8-72778b391f4b"
      },
      "cell_type": "code",
      "source": [
        "test_results = df4['Composition'].head(20).apply(lambda x: environments(x)[1]) #, feedback=True))\n",
        "environment_counter = collections.Counter()\n",
        "test_results.apply(lambda x: environment_counter.update(list(x)))\n",
        "environment_counter.most_common(10)"
      ],
      "execution_count": 27,
      "outputs": [
        {
          "output_type": "execute_result",
          "data": {
            "text/plain": [
              "[('1Te1', 2),\n",
              " ('1Yb1S2', 2),\n",
              " ('1S2Yb1', 2),\n",
              " ('1Ba1', 1),\n",
              " ('2S1', 1),\n",
              " ('1Hf2', 1),\n",
              " ('4Co1Si1', 1),\n",
              " ('4Si1Co1', 1),\n",
              " ('1Nb4Si1', 1),\n",
              " ('1Si1Nb4', 1)]"
            ]
          },
          "metadata": {
            "tags": []
          },
          "execution_count": 27
        }
      ]
    },
    {
      "metadata": {
        "id": "ohlXe53vIcrG",
        "colab_type": "code",
        "colab": {
          "base_uri": "https://localhost:8080/",
          "height": 669
        },
        "outputId": "f34d7934-d1fd-4631-d967-831d95ff27cb"
      },
      "cell_type": "code",
      "source": [
        "df4.head(20)"
      ],
      "execution_count": 28,
      "outputs": [
        {
          "output_type": "execute_result",
          "data": {
            "text/html": [
              "<div>\n",
              "<style scoped>\n",
              "    .dataframe tbody tr th:only-of-type {\n",
              "        vertical-align: middle;\n",
              "    }\n",
              "\n",
              "    .dataframe tbody tr th {\n",
              "        vertical-align: top;\n",
              "    }\n",
              "\n",
              "    .dataframe thead th {\n",
              "        text-align: right;\n",
              "    }\n",
              "</style>\n",
              "<table border=\"1\" class=\"dataframe\">\n",
              "  <thead>\n",
              "    <tr style=\"text-align: right;\">\n",
              "      <th></th>\n",
              "      <th>material_id</th>\n",
              "      <th>pretty_formula</th>\n",
              "      <th>Composition</th>\n",
              "      <th>Num_Elements</th>\n",
              "      <th>Density</th>\n",
              "      <th>Energy</th>\n",
              "      <th>Total Electrons</th>\n",
              "    </tr>\n",
              "  </thead>\n",
              "  <tbody>\n",
              "    <tr>\n",
              "      <th>0</th>\n",
              "      <td>mp-1000</td>\n",
              "      <td>BaTe</td>\n",
              "      <td>(Ba, Te)</td>\n",
              "      <td>2</td>\n",
              "      <td>4.937886</td>\n",
              "      <td>-8.647345</td>\n",
              "      <td>None</td>\n",
              "    </tr>\n",
              "    <tr>\n",
              "      <th>1</th>\n",
              "      <td>mp-10000</td>\n",
              "      <td>Hf2S</td>\n",
              "      <td>(Hf, S)</td>\n",
              "      <td>2</td>\n",
              "      <td>11.035292</td>\n",
              "      <td>-54.265245</td>\n",
              "      <td>None</td>\n",
              "    </tr>\n",
              "    <tr>\n",
              "      <th>2</th>\n",
              "      <td>mp-10003</td>\n",
              "      <td>Nb4CoSi</td>\n",
              "      <td>(Nb, Co, Si)</td>\n",
              "      <td>3</td>\n",
              "      <td>7.830812</td>\n",
              "      <td>-110.093972</td>\n",
              "      <td>None</td>\n",
              "    </tr>\n",
              "    <tr>\n",
              "      <th>3</th>\n",
              "      <td>mp-10004</td>\n",
              "      <td>Mo3P</td>\n",
              "      <td>(Mo, P)</td>\n",
              "      <td>2</td>\n",
              "      <td>8.991405</td>\n",
              "      <td>-157.398310</td>\n",
              "      <td>None</td>\n",
              "    </tr>\n",
              "    <tr>\n",
              "      <th>4</th>\n",
              "      <td>mp-1000440</td>\n",
              "      <td>CrN</td>\n",
              "      <td>(Cr, N)</td>\n",
              "      <td>2</td>\n",
              "      <td>6.101436</td>\n",
              "      <td>-18.643520</td>\n",
              "      <td>None</td>\n",
              "    </tr>\n",
              "    <tr>\n",
              "      <th>5</th>\n",
              "      <td>mp-1000487</td>\n",
              "      <td>CeAlO3</td>\n",
              "      <td>(Ce, Al, O)</td>\n",
              "      <td>3</td>\n",
              "      <td>6.580909</td>\n",
              "      <td>-40.418431</td>\n",
              "      <td>None</td>\n",
              "    </tr>\n",
              "    <tr>\n",
              "      <th>6</th>\n",
              "      <td>mp-1000588</td>\n",
              "      <td>U2IrC2</td>\n",
              "      <td>(U, Ir, C)</td>\n",
              "      <td>3</td>\n",
              "      <td>15.206073</td>\n",
              "      <td>-51.542110</td>\n",
              "      <td>None</td>\n",
              "    </tr>\n",
              "    <tr>\n",
              "      <th>7</th>\n",
              "      <td>mp-10006</td>\n",
              "      <td>TlAgTe2</td>\n",
              "      <td>(Tl, Ag, Te)</td>\n",
              "      <td>3</td>\n",
              "      <td>7.781762</td>\n",
              "      <td>-11.648500</td>\n",
              "      <td>None</td>\n",
              "    </tr>\n",
              "    <tr>\n",
              "      <th>8</th>\n",
              "      <td>mp-1000625</td>\n",
              "      <td>K(CoSe)2</td>\n",
              "      <td>(K, Co, Se)</td>\n",
              "      <td>3</td>\n",
              "      <td>5.172313</td>\n",
              "      <td>-24.697659</td>\n",
              "      <td>None</td>\n",
              "    </tr>\n",
              "    <tr>\n",
              "      <th>9</th>\n",
              "      <td>mp-1000712</td>\n",
              "      <td>RbYbS2</td>\n",
              "      <td>(Rb, Yb, S)</td>\n",
              "      <td>3</td>\n",
              "      <td>4.595989</td>\n",
              "      <td>-15.922842</td>\n",
              "      <td>None</td>\n",
              "    </tr>\n",
              "    <tr>\n",
              "      <th>10</th>\n",
              "      <td>mp-1000769</td>\n",
              "      <td>MnB2</td>\n",
              "      <td>(Mn, B)</td>\n",
              "      <td>2</td>\n",
              "      <td>5.575508</td>\n",
              "      <td>-23.368133</td>\n",
              "      <td>None</td>\n",
              "    </tr>\n",
              "    <tr>\n",
              "      <th>11</th>\n",
              "      <td>mp-1000773</td>\n",
              "      <td>Ce3AlC</td>\n",
              "      <td>(Ce, Al, C)</td>\n",
              "      <td>3</td>\n",
              "      <td>6.358451</td>\n",
              "      <td>-31.866910</td>\n",
              "      <td>None</td>\n",
              "    </tr>\n",
              "    <tr>\n",
              "      <th>12</th>\n",
              "      <td>mp-1000774</td>\n",
              "      <td>PuAs</td>\n",
              "      <td>(Pu, As)</td>\n",
              "      <td>2</td>\n",
              "      <td>10.610403</td>\n",
              "      <td>-21.016892</td>\n",
              "      <td>None</td>\n",
              "    </tr>\n",
              "    <tr>\n",
              "      <th>13</th>\n",
              "      <td>mp-10008</td>\n",
              "      <td>Ca7Ge</td>\n",
              "      <td>(Ca, Ge)</td>\n",
              "      <td>2</td>\n",
              "      <td>2.012547</td>\n",
              "      <td>-18.711853</td>\n",
              "      <td>None</td>\n",
              "    </tr>\n",
              "    <tr>\n",
              "      <th>14</th>\n",
              "      <td>mp-1000830</td>\n",
              "      <td>KYbS2</td>\n",
              "      <td>(K, Yb, S)</td>\n",
              "      <td>3</td>\n",
              "      <td>4.211758</td>\n",
              "      <td>-16.176975</td>\n",
              "      <td>None</td>\n",
              "    </tr>\n",
              "    <tr>\n",
              "      <th>15</th>\n",
              "      <td>mp-10009</td>\n",
              "      <td>GaTe</td>\n",
              "      <td>(Ga, Te)</td>\n",
              "      <td>2</td>\n",
              "      <td>4.804722</td>\n",
              "      <td>-27.604697</td>\n",
              "      <td>None</td>\n",
              "    </tr>\n",
              "    <tr>\n",
              "      <th>16</th>\n",
              "      <td>mp-1001</td>\n",
              "      <td>BaN2</td>\n",
              "      <td>(Ba, N)</td>\n",
              "      <td>2</td>\n",
              "      <td>4.760886</td>\n",
              "      <td>-40.247944</td>\n",
              "      <td>None</td>\n",
              "    </tr>\n",
              "    <tr>\n",
              "      <th>17</th>\n",
              "      <td>mp-10010</td>\n",
              "      <td>Al(CoSi)2</td>\n",
              "      <td>(Al, Co, Si)</td>\n",
              "      <td>3</td>\n",
              "      <td>5.387587</td>\n",
              "      <td>-31.503046</td>\n",
              "      <td>None</td>\n",
              "    </tr>\n",
              "    <tr>\n",
              "      <th>18</th>\n",
              "      <td>mp-1001009</td>\n",
              "      <td>MnSe</td>\n",
              "      <td>(Mn, Se)</td>\n",
              "      <td>2</td>\n",
              "      <td>5.544004</td>\n",
              "      <td>-13.337827</td>\n",
              "      <td>None</td>\n",
              "    </tr>\n",
              "    <tr>\n",
              "      <th>19</th>\n",
              "      <td>mp-1001011</td>\n",
              "      <td>TaO3</td>\n",
              "      <td>(Ta, O)</td>\n",
              "      <td>2</td>\n",
              "      <td>6.145869</td>\n",
              "      <td>-143.050392</td>\n",
              "      <td>None</td>\n",
              "    </tr>\n",
              "  </tbody>\n",
              "</table>\n",
              "</div>"
            ],
            "text/plain": [
              "   material_id pretty_formula   Composition  Num_Elements    Density  \\\n",
              "0      mp-1000           BaTe      (Ba, Te)             2   4.937886   \n",
              "1     mp-10000           Hf2S       (Hf, S)             2  11.035292   \n",
              "2     mp-10003        Nb4CoSi  (Nb, Co, Si)             3   7.830812   \n",
              "3     mp-10004           Mo3P       (Mo, P)             2   8.991405   \n",
              "4   mp-1000440            CrN       (Cr, N)             2   6.101436   \n",
              "5   mp-1000487         CeAlO3   (Ce, Al, O)             3   6.580909   \n",
              "6   mp-1000588         U2IrC2    (U, Ir, C)             3  15.206073   \n",
              "7     mp-10006        TlAgTe2  (Tl, Ag, Te)             3   7.781762   \n",
              "8   mp-1000625       K(CoSe)2   (K, Co, Se)             3   5.172313   \n",
              "9   mp-1000712         RbYbS2   (Rb, Yb, S)             3   4.595989   \n",
              "10  mp-1000769           MnB2       (Mn, B)             2   5.575508   \n",
              "11  mp-1000773         Ce3AlC   (Ce, Al, C)             3   6.358451   \n",
              "12  mp-1000774           PuAs      (Pu, As)             2  10.610403   \n",
              "13    mp-10008          Ca7Ge      (Ca, Ge)             2   2.012547   \n",
              "14  mp-1000830          KYbS2    (K, Yb, S)             3   4.211758   \n",
              "15    mp-10009           GaTe      (Ga, Te)             2   4.804722   \n",
              "16     mp-1001           BaN2       (Ba, N)             2   4.760886   \n",
              "17    mp-10010      Al(CoSi)2  (Al, Co, Si)             3   5.387587   \n",
              "18  mp-1001009           MnSe      (Mn, Se)             2   5.544004   \n",
              "19  mp-1001011           TaO3       (Ta, O)             2   6.145869   \n",
              "\n",
              "        Energy Total Electrons  \n",
              "0    -8.647345            None  \n",
              "1   -54.265245            None  \n",
              "2  -110.093972            None  \n",
              "3  -157.398310            None  \n",
              "4   -18.643520            None  \n",
              "5   -40.418431            None  \n",
              "6   -51.542110            None  \n",
              "7   -11.648500            None  \n",
              "8   -24.697659            None  \n",
              "9   -15.922842            None  \n",
              "10  -23.368133            None  \n",
              "11  -31.866910            None  \n",
              "12  -21.016892            None  \n",
              "13  -18.711853            None  \n",
              "14  -16.176975            None  \n",
              "15  -27.604697            None  \n",
              "16  -40.247944            None  \n",
              "17  -31.503046            None  \n",
              "18  -13.337827            None  \n",
              "19 -143.050392            None  "
            ]
          },
          "metadata": {
            "tags": []
          },
          "execution_count": 28
        }
      ]
    },
    {
      "metadata": {
        "id": "ikXC_n204sYT",
        "colab_type": "code",
        "colab": {
          "base_uri": "https://localhost:8080/",
          "height": 374
        },
        "outputId": "cb872285-0149-4f98-cdc5-5dfd7ba911be"
      },
      "cell_type": "code",
      "source": [
        "results = df4['Composition'].apply(lambda x: environments(x)[1])\n",
        "environment_counter = collections.Counter()\n",
        "results.apply(lambda x: environment_counter.update(list(x)))\n",
        "print(len(environment_counter))\n",
        "environment_counter.most_common(20)\n"
      ],
      "execution_count": 29,
      "outputs": [
        {
          "output_type": "stream",
          "text": [
            "326964\n"
          ],
          "name": "stdout"
        },
        {
          "output_type": "execute_result",
          "data": {
            "text/plain": [
              "[('1O2', 749),\n",
              " ('1Li1P1O4', 382),\n",
              " ('1Li1O4P1', 382),\n",
              " ('1P1Li1O4', 382),\n",
              " ('1P1O4Li1', 382),\n",
              " ('1O4Li1P1', 382),\n",
              " ('1O4P1Li1', 382),\n",
              " ('2Si1', 358),\n",
              " ('1Mg1', 355),\n",
              " ('2Mg1', 327),\n",
              " ('1Se2', 275),\n",
              " ('1S1', 273),\n",
              " ('1N1', 272),\n",
              " ('1Mg2', 255),\n",
              " ('2Mg1O4', 239),\n",
              " ('2O4Mg1', 239),\n",
              " ('2Ce1', 235),\n",
              " ('2Ca1O4', 234),\n",
              " ('2O4Ca1', 234),\n",
              " ('1O1F1', 229)]"
            ]
          },
          "metadata": {
            "tags": []
          },
          "execution_count": 29
        }
      ]
    },
    {
      "metadata": {
        "id": "tbzwgqGr5IU7",
        "colab_type": "code",
        "colab": {
          "base_uri": "https://localhost:8080/",
          "height": 221
        },
        "outputId": "a9ce0d93-eead-44e7-cdf1-8a223f0ba647"
      },
      "cell_type": "code",
      "source": [
        "df_env_frequencies = pd.DataFrame(columns=['Environment', 'Freq'])\n",
        "freq_environments = []\n",
        "num_environments = []\n",
        "for env, num in environment_counter.most_common(): #10): # parentheses () to see all\n",
        "  freq_environments.append(env)\n",
        "  num_environments.append(num)\n",
        "\n",
        "df_env_frequencies['Environment'] = freq_environments\n",
        "df_env_frequencies['Freq'] = num_environments\n",
        "\n",
        "print(len(df_env_frequencies))\n",
        "df_env_frequencies.head()\n",
        "\n"
      ],
      "execution_count": 30,
      "outputs": [
        {
          "output_type": "stream",
          "text": [
            "326964\n"
          ],
          "name": "stdout"
        },
        {
          "output_type": "execute_result",
          "data": {
            "text/html": [
              "<div>\n",
              "<style scoped>\n",
              "    .dataframe tbody tr th:only-of-type {\n",
              "        vertical-align: middle;\n",
              "    }\n",
              "\n",
              "    .dataframe tbody tr th {\n",
              "        vertical-align: top;\n",
              "    }\n",
              "\n",
              "    .dataframe thead th {\n",
              "        text-align: right;\n",
              "    }\n",
              "</style>\n",
              "<table border=\"1\" class=\"dataframe\">\n",
              "  <thead>\n",
              "    <tr style=\"text-align: right;\">\n",
              "      <th></th>\n",
              "      <th>Environment</th>\n",
              "      <th>Freq</th>\n",
              "    </tr>\n",
              "  </thead>\n",
              "  <tbody>\n",
              "    <tr>\n",
              "      <th>0</th>\n",
              "      <td>1O2</td>\n",
              "      <td>749</td>\n",
              "    </tr>\n",
              "    <tr>\n",
              "      <th>1</th>\n",
              "      <td>1Li1P1O4</td>\n",
              "      <td>382</td>\n",
              "    </tr>\n",
              "    <tr>\n",
              "      <th>2</th>\n",
              "      <td>1Li1O4P1</td>\n",
              "      <td>382</td>\n",
              "    </tr>\n",
              "    <tr>\n",
              "      <th>3</th>\n",
              "      <td>1P1Li1O4</td>\n",
              "      <td>382</td>\n",
              "    </tr>\n",
              "    <tr>\n",
              "      <th>4</th>\n",
              "      <td>1P1O4Li1</td>\n",
              "      <td>382</td>\n",
              "    </tr>\n",
              "  </tbody>\n",
              "</table>\n",
              "</div>"
            ],
            "text/plain": [
              "  Environment  Freq\n",
              "0         1O2   749\n",
              "1    1Li1P1O4   382\n",
              "2    1Li1O4P1   382\n",
              "3    1P1Li1O4   382\n",
              "4    1P1O4Li1   382"
            ]
          },
          "metadata": {
            "tags": []
          },
          "execution_count": 30
        }
      ]
    },
    {
      "metadata": {
        "id": "1v_liRkO55Yr",
        "colab_type": "code",
        "colab": {
          "base_uri": "https://localhost:8080/",
          "height": 253
        },
        "outputId": "a9e02e59-80a7-46cd-823e-afb1a849bde8"
      },
      "cell_type": "code",
      "source": [
        "element_list = [str(i) for i in freq_elements][:81] # based on the top 80 elements\n",
        "df_sparse = pd.DataFrame(0, index=element_list, columns=df_env_frequencies['Environment'])\n",
        "\n",
        "df_sparse.head()"
      ],
      "execution_count": 38,
      "outputs": [
        {
          "output_type": "execute_result",
          "data": {
            "text/html": [
              "<div>\n",
              "<style scoped>\n",
              "    .dataframe tbody tr th:only-of-type {\n",
              "        vertical-align: middle;\n",
              "    }\n",
              "\n",
              "    .dataframe tbody tr th {\n",
              "        vertical-align: top;\n",
              "    }\n",
              "\n",
              "    .dataframe thead th {\n",
              "        text-align: right;\n",
              "    }\n",
              "</style>\n",
              "<table border=\"1\" class=\"dataframe\">\n",
              "  <thead>\n",
              "    <tr style=\"text-align: right;\">\n",
              "      <th>Environment</th>\n",
              "      <th>1O2</th>\n",
              "      <th>1Li1P1O4</th>\n",
              "      <th>1Li1O4P1</th>\n",
              "      <th>1P1Li1O4</th>\n",
              "      <th>1P1O4Li1</th>\n",
              "      <th>1O4Li1P1</th>\n",
              "      <th>1O4P1Li1</th>\n",
              "      <th>2Si1</th>\n",
              "      <th>1Mg1</th>\n",
              "      <th>2Mg1</th>\n",
              "      <th>...</th>\n",
              "      <th>8Mn2Ca1P2</th>\n",
              "      <th>8Mn2P2Ca1</th>\n",
              "      <th>8P2Ca1Mn2</th>\n",
              "      <th>8P2Mn2Ca1</th>\n",
              "      <th>6Ca1La1Cr2</th>\n",
              "      <th>6Ca1Cr2La1</th>\n",
              "      <th>6La1Ca1Cr2</th>\n",
              "      <th>6La1Cr2Ca1</th>\n",
              "      <th>6Cr2Ca1La1</th>\n",
              "      <th>6Cr2La1Ca1</th>\n",
              "    </tr>\n",
              "  </thead>\n",
              "  <tbody>\n",
              "    <tr>\n",
              "      <th>O</th>\n",
              "      <td>0</td>\n",
              "      <td>0</td>\n",
              "      <td>0</td>\n",
              "      <td>0</td>\n",
              "      <td>0</td>\n",
              "      <td>0</td>\n",
              "      <td>0</td>\n",
              "      <td>0</td>\n",
              "      <td>0</td>\n",
              "      <td>0</td>\n",
              "      <td>...</td>\n",
              "      <td>0</td>\n",
              "      <td>0</td>\n",
              "      <td>0</td>\n",
              "      <td>0</td>\n",
              "      <td>0</td>\n",
              "      <td>0</td>\n",
              "      <td>0</td>\n",
              "      <td>0</td>\n",
              "      <td>0</td>\n",
              "      <td>0</td>\n",
              "    </tr>\n",
              "    <tr>\n",
              "      <th>Li</th>\n",
              "      <td>0</td>\n",
              "      <td>0</td>\n",
              "      <td>0</td>\n",
              "      <td>0</td>\n",
              "      <td>0</td>\n",
              "      <td>0</td>\n",
              "      <td>0</td>\n",
              "      <td>0</td>\n",
              "      <td>0</td>\n",
              "      <td>0</td>\n",
              "      <td>...</td>\n",
              "      <td>0</td>\n",
              "      <td>0</td>\n",
              "      <td>0</td>\n",
              "      <td>0</td>\n",
              "      <td>0</td>\n",
              "      <td>0</td>\n",
              "      <td>0</td>\n",
              "      <td>0</td>\n",
              "      <td>0</td>\n",
              "      <td>0</td>\n",
              "    </tr>\n",
              "    <tr>\n",
              "      <th>Mg</th>\n",
              "      <td>0</td>\n",
              "      <td>0</td>\n",
              "      <td>0</td>\n",
              "      <td>0</td>\n",
              "      <td>0</td>\n",
              "      <td>0</td>\n",
              "      <td>0</td>\n",
              "      <td>0</td>\n",
              "      <td>0</td>\n",
              "      <td>0</td>\n",
              "      <td>...</td>\n",
              "      <td>0</td>\n",
              "      <td>0</td>\n",
              "      <td>0</td>\n",
              "      <td>0</td>\n",
              "      <td>0</td>\n",
              "      <td>0</td>\n",
              "      <td>0</td>\n",
              "      <td>0</td>\n",
              "      <td>0</td>\n",
              "      <td>0</td>\n",
              "    </tr>\n",
              "    <tr>\n",
              "      <th>P</th>\n",
              "      <td>0</td>\n",
              "      <td>0</td>\n",
              "      <td>0</td>\n",
              "      <td>0</td>\n",
              "      <td>0</td>\n",
              "      <td>0</td>\n",
              "      <td>0</td>\n",
              "      <td>0</td>\n",
              "      <td>0</td>\n",
              "      <td>0</td>\n",
              "      <td>...</td>\n",
              "      <td>0</td>\n",
              "      <td>0</td>\n",
              "      <td>0</td>\n",
              "      <td>0</td>\n",
              "      <td>0</td>\n",
              "      <td>0</td>\n",
              "      <td>0</td>\n",
              "      <td>0</td>\n",
              "      <td>0</td>\n",
              "      <td>0</td>\n",
              "    </tr>\n",
              "    <tr>\n",
              "      <th>F</th>\n",
              "      <td>0</td>\n",
              "      <td>0</td>\n",
              "      <td>0</td>\n",
              "      <td>0</td>\n",
              "      <td>0</td>\n",
              "      <td>0</td>\n",
              "      <td>0</td>\n",
              "      <td>0</td>\n",
              "      <td>0</td>\n",
              "      <td>0</td>\n",
              "      <td>...</td>\n",
              "      <td>0</td>\n",
              "      <td>0</td>\n",
              "      <td>0</td>\n",
              "      <td>0</td>\n",
              "      <td>0</td>\n",
              "      <td>0</td>\n",
              "      <td>0</td>\n",
              "      <td>0</td>\n",
              "      <td>0</td>\n",
              "      <td>0</td>\n",
              "    </tr>\n",
              "  </tbody>\n",
              "</table>\n",
              "<p>5 rows × 326964 columns</p>\n",
              "</div>"
            ],
            "text/plain": [
              "Environment  1O2  1Li1P1O4  1Li1O4P1  1P1Li1O4  1P1O4Li1  1O4Li1P1  1O4P1Li1  \\\n",
              "O              0         0         0         0         0         0         0   \n",
              "Li             0         0         0         0         0         0         0   \n",
              "Mg             0         0         0         0         0         0         0   \n",
              "P              0         0         0         0         0         0         0   \n",
              "F              0         0         0         0         0         0         0   \n",
              "\n",
              "Environment  2Si1  1Mg1  2Mg1     ...      8Mn2Ca1P2  8Mn2P2Ca1  8P2Ca1Mn2  \\\n",
              "O               0     0     0     ...              0          0          0   \n",
              "Li              0     0     0     ...              0          0          0   \n",
              "Mg              0     0     0     ...              0          0          0   \n",
              "P               0     0     0     ...              0          0          0   \n",
              "F               0     0     0     ...              0          0          0   \n",
              "\n",
              "Environment  8P2Mn2Ca1  6Ca1La1Cr2  6Ca1Cr2La1  6La1Ca1Cr2  6La1Cr2Ca1  \\\n",
              "O                    0           0           0           0           0   \n",
              "Li                   0           0           0           0           0   \n",
              "Mg                   0           0           0           0           0   \n",
              "P                    0           0           0           0           0   \n",
              "F                    0           0           0           0           0   \n",
              "\n",
              "Environment  6Cr2Ca1La1  6Cr2La1Ca1  \n",
              "O                     0           0  \n",
              "Li                    0           0  \n",
              "Mg                    0           0  \n",
              "P                     0           0  \n",
              "F                     0           0  \n",
              "\n",
              "[5 rows x 326964 columns]"
            ]
          },
          "metadata": {
            "tags": []
          },
          "execution_count": 38
        }
      ]
    },
    {
      "metadata": {
        "id": "gjjA0jXI9MOU",
        "colab_type": "code",
        "colab": {
          "base_uri": "https://localhost:8080/",
          "height": 1071
        },
        "outputId": "c3028a47-761b-477f-eaff-9b7f5e7ab9d0"
      },
      "cell_type": "code",
      "source": [
        "for k in range(len(df4)):\n",
        "  elems, envs = environments(df4['Composition'].iloc[k])\n",
        "  try:\n",
        "    for i in range(len(elems)):\n",
        "      df_sparse.loc[elems[i]][envs[i]] += 1\n",
        "  except:\n",
        "    print(k)\n",
        "  if i % 50000 == 0: print(i)\n",
        "#df_sparse.sum(axis=1) #O:144823; Li:53949; Mg: 30516; P: 33135; F 18532"
      ],
      "execution_count": 39,
      "outputs": [
        {
          "output_type": "execute_result",
          "data": {
            "text/plain": [
              "O     144823\n",
              "Li     53949\n",
              "Mg     30516\n",
              "P      33135\n",
              "F      18532\n",
              "Mn     21072\n",
              "Fe     20841\n",
              "Si     17339\n",
              "S      16091\n",
              "V      17713\n",
              "Cu     15913\n",
              "Co     15337\n",
              "Ni     13582\n",
              "Ca     12399\n",
              "Ba     13070\n",
              "Na     12627\n",
              "N      10554\n",
              "Ti     11173\n",
              "Cr     12536\n",
              "Zn     10296\n",
              "B      12589\n",
              "Al      9464\n",
              "K      11876\n",
              "Sn      8886\n",
              "Se      9265\n",
              "H      12145\n",
              "C       9860\n",
              "Sb      8050\n",
              "Ge      6970\n",
              "Bi      8444\n",
              "       ...  \n",
              "Rh      2768\n",
              "Hf      3768\n",
              "Pb      3530\n",
              "Pt      2443\n",
              "Br      3417\n",
              "Ta      3550\n",
              "Hg      2854\n",
              "Nd      3057\n",
              "Sc      2585\n",
              "Sm      2746\n",
              "Ru      2678\n",
              "U       2824\n",
              "Ir      2484\n",
              "Pr      2752\n",
              "Yb      2095\n",
              "Ho      2223\n",
              "Er      2053\n",
              "Dy      1991\n",
              "Tb      1900\n",
              "Lu      1690\n",
              "Tm      1611\n",
              "Gd      1882\n",
              "Eu      1785\n",
              "Re      1833\n",
              "Os      1455\n",
              "Be      1577\n",
              "Th       998\n",
              "Tc       823\n",
              "Pu       374\n",
              "Pm       404\n",
              "Length: 81, dtype: int64"
            ]
          },
          "metadata": {
            "tags": []
          },
          "execution_count": 39
        }
      ]
    },
    {
      "metadata": {
        "id": "kUbuxteERbpm",
        "colab_type": "code",
        "colab": {
          "base_uri": "https://localhost:8080/",
          "height": 253
        },
        "outputId": "1b38f4ef-c4e8-49b3-d175-81de42726f90"
      },
      "cell_type": "code",
      "source": [
        "df_sparse.head()"
      ],
      "execution_count": 40,
      "outputs": [
        {
          "output_type": "execute_result",
          "data": {
            "text/html": [
              "<div>\n",
              "<style scoped>\n",
              "    .dataframe tbody tr th:only-of-type {\n",
              "        vertical-align: middle;\n",
              "    }\n",
              "\n",
              "    .dataframe tbody tr th {\n",
              "        vertical-align: top;\n",
              "    }\n",
              "\n",
              "    .dataframe thead th {\n",
              "        text-align: right;\n",
              "    }\n",
              "</style>\n",
              "<table border=\"1\" class=\"dataframe\">\n",
              "  <thead>\n",
              "    <tr style=\"text-align: right;\">\n",
              "      <th>Environment</th>\n",
              "      <th>1O2</th>\n",
              "      <th>1Li1P1O4</th>\n",
              "      <th>1Li1O4P1</th>\n",
              "      <th>1P1Li1O4</th>\n",
              "      <th>1P1O4Li1</th>\n",
              "      <th>1O4Li1P1</th>\n",
              "      <th>1O4P1Li1</th>\n",
              "      <th>2Si1</th>\n",
              "      <th>1Mg1</th>\n",
              "      <th>2Mg1</th>\n",
              "      <th>...</th>\n",
              "      <th>8Mn2Ca1P2</th>\n",
              "      <th>8Mn2P2Ca1</th>\n",
              "      <th>8P2Ca1Mn2</th>\n",
              "      <th>8P2Mn2Ca1</th>\n",
              "      <th>6Ca1La1Cr2</th>\n",
              "      <th>6Ca1Cr2La1</th>\n",
              "      <th>6La1Ca1Cr2</th>\n",
              "      <th>6La1Cr2Ca1</th>\n",
              "      <th>6Cr2Ca1La1</th>\n",
              "      <th>6Cr2La1Ca1</th>\n",
              "    </tr>\n",
              "  </thead>\n",
              "  <tbody>\n",
              "    <tr>\n",
              "      <th>O</th>\n",
              "      <td>0</td>\n",
              "      <td>0</td>\n",
              "      <td>0</td>\n",
              "      <td>0</td>\n",
              "      <td>0</td>\n",
              "      <td>0</td>\n",
              "      <td>0</td>\n",
              "      <td>282</td>\n",
              "      <td>7</td>\n",
              "      <td>2</td>\n",
              "      <td>...</td>\n",
              "      <td>1</td>\n",
              "      <td>1</td>\n",
              "      <td>1</td>\n",
              "      <td>1</td>\n",
              "      <td>1</td>\n",
              "      <td>1</td>\n",
              "      <td>1</td>\n",
              "      <td>1</td>\n",
              "      <td>1</td>\n",
              "      <td>1</td>\n",
              "    </tr>\n",
              "    <tr>\n",
              "      <th>Li</th>\n",
              "      <td>4</td>\n",
              "      <td>0</td>\n",
              "      <td>0</td>\n",
              "      <td>0</td>\n",
              "      <td>0</td>\n",
              "      <td>0</td>\n",
              "      <td>0</td>\n",
              "      <td>1</td>\n",
              "      <td>17</td>\n",
              "      <td>12</td>\n",
              "      <td>...</td>\n",
              "      <td>0</td>\n",
              "      <td>0</td>\n",
              "      <td>0</td>\n",
              "      <td>0</td>\n",
              "      <td>0</td>\n",
              "      <td>0</td>\n",
              "      <td>0</td>\n",
              "      <td>0</td>\n",
              "      <td>0</td>\n",
              "      <td>0</td>\n",
              "    </tr>\n",
              "    <tr>\n",
              "      <th>Mg</th>\n",
              "      <td>2</td>\n",
              "      <td>1</td>\n",
              "      <td>1</td>\n",
              "      <td>1</td>\n",
              "      <td>1</td>\n",
              "      <td>1</td>\n",
              "      <td>1</td>\n",
              "      <td>35</td>\n",
              "      <td>0</td>\n",
              "      <td>0</td>\n",
              "      <td>...</td>\n",
              "      <td>0</td>\n",
              "      <td>0</td>\n",
              "      <td>0</td>\n",
              "      <td>0</td>\n",
              "      <td>0</td>\n",
              "      <td>0</td>\n",
              "      <td>0</td>\n",
              "      <td>0</td>\n",
              "      <td>0</td>\n",
              "      <td>0</td>\n",
              "    </tr>\n",
              "    <tr>\n",
              "      <th>P</th>\n",
              "      <td>1</td>\n",
              "      <td>0</td>\n",
              "      <td>0</td>\n",
              "      <td>0</td>\n",
              "      <td>0</td>\n",
              "      <td>0</td>\n",
              "      <td>0</td>\n",
              "      <td>2</td>\n",
              "      <td>1</td>\n",
              "      <td>0</td>\n",
              "      <td>...</td>\n",
              "      <td>0</td>\n",
              "      <td>0</td>\n",
              "      <td>0</td>\n",
              "      <td>0</td>\n",
              "      <td>0</td>\n",
              "      <td>0</td>\n",
              "      <td>0</td>\n",
              "      <td>0</td>\n",
              "      <td>0</td>\n",
              "      <td>0</td>\n",
              "    </tr>\n",
              "    <tr>\n",
              "      <th>F</th>\n",
              "      <td>0</td>\n",
              "      <td>0</td>\n",
              "      <td>0</td>\n",
              "      <td>0</td>\n",
              "      <td>0</td>\n",
              "      <td>0</td>\n",
              "      <td>0</td>\n",
              "      <td>0</td>\n",
              "      <td>0</td>\n",
              "      <td>5</td>\n",
              "      <td>...</td>\n",
              "      <td>0</td>\n",
              "      <td>0</td>\n",
              "      <td>0</td>\n",
              "      <td>0</td>\n",
              "      <td>0</td>\n",
              "      <td>0</td>\n",
              "      <td>0</td>\n",
              "      <td>0</td>\n",
              "      <td>0</td>\n",
              "      <td>0</td>\n",
              "    </tr>\n",
              "  </tbody>\n",
              "</table>\n",
              "<p>5 rows × 326964 columns</p>\n",
              "</div>"
            ],
            "text/plain": [
              "Environment  1O2  1Li1P1O4  1Li1O4P1  1P1Li1O4  1P1O4Li1  1O4Li1P1  1O4P1Li1  \\\n",
              "O              0         0         0         0         0         0         0   \n",
              "Li             4         0         0         0         0         0         0   \n",
              "Mg             2         1         1         1         1         1         1   \n",
              "P              1         0         0         0         0         0         0   \n",
              "F              0         0         0         0         0         0         0   \n",
              "\n",
              "Environment  2Si1  1Mg1  2Mg1     ...      8Mn2Ca1P2  8Mn2P2Ca1  8P2Ca1Mn2  \\\n",
              "O             282     7     2     ...              1          1          1   \n",
              "Li              1    17    12     ...              0          0          0   \n",
              "Mg             35     0     0     ...              0          0          0   \n",
              "P               2     1     0     ...              0          0          0   \n",
              "F               0     0     5     ...              0          0          0   \n",
              "\n",
              "Environment  8P2Mn2Ca1  6Ca1La1Cr2  6Ca1Cr2La1  6La1Ca1Cr2  6La1Cr2Ca1  \\\n",
              "O                    1           1           1           1           1   \n",
              "Li                   0           0           0           0           0   \n",
              "Mg                   0           0           0           0           0   \n",
              "P                    0           0           0           0           0   \n",
              "F                    0           0           0           0           0   \n",
              "\n",
              "Environment  6Cr2Ca1La1  6Cr2La1Ca1  \n",
              "O                     1           1  \n",
              "Li                    0           0  \n",
              "Mg                    0           0  \n",
              "P                     0           0  \n",
              "F                     0           0  \n",
              "\n",
              "[5 rows x 326964 columns]"
            ]
          },
          "metadata": {
            "tags": []
          },
          "execution_count": 40
        }
      ]
    },
    {
      "metadata": {
        "id": "D6jEZS70ReV2",
        "colab_type": "code",
        "colab": {}
      },
      "cell_type": "code",
      "source": [
        "matrix_filename = 'matrix-large-09-18-2018.csv' \n",
        "df_sparse.to_csv(matrix_filename)\n",
        "files.download(matrix_filename) # 50 MB"
      ],
      "execution_count": 0,
      "outputs": []
    }
  ]
}